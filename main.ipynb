{
 "cells": [
  {
   "cell_type": "code",
   "execution_count": 1,
   "metadata": {},
   "outputs": [],
   "source": [
    "import cv2\n",
    "import numpy as np\n",
    "\n",
    "from ultralytics import YOLO"
   ]
  },
  {
   "cell_type": "code",
   "execution_count": 2,
   "metadata": {},
   "outputs": [],
   "source": [
    "LEAF_MODEL_PATH = \"models/leaf.pt\"\n",
    "LEAF_DISEASE_MODEL_PATH = \"models/leafdisease.pt\""
   ]
  },
  {
   "cell_type": "code",
   "execution_count": 3,
   "metadata": {},
   "outputs": [],
   "source": [
    "def preprocessImage(image: np.ndarray) -> np.ndarray:\n",
    "    \"\"\"Preprocess image\n",
    "\n",
    "    Args:\n",
    "        image (np.ndarray): Image object of numpy.ndarray type\n",
    "\n",
    "    Returns:\n",
    "        np.ndarray: Preprocessed image of numpy.ndarray type\n",
    "    \"\"\"\n",
    "    return cv2.resize(image, (640, 640))"
   ]
  },
  {
   "cell_type": "code",
   "execution_count": 4,
   "metadata": {},
   "outputs": [],
   "source": [
    "def getSegmentationMask(MODEL_PATH: str, image: np.ndarray) -> np.ndarray:\n",
    "    \"\"\"Extract Segmentation Mask\n",
    "\n",
    "    Args:\n",
    "        MODEL_PATH (str): Path to the segmentation model\n",
    "        image (np.ndarray): Image object of numpy.ndarray type\n",
    "\n",
    "    Returns:\n",
    "        np.ndarray: Binary Segmentation mask\n",
    "    \"\"\"\n",
    "    \n",
    "    MODEL = YOLO(MODEL_PATH)\n",
    "    \n",
    "    result = MODEL(image)\n",
    "    \n",
    "    mask = result[0].masks.data\n",
    "    \n",
    "    try:\n",
    "        binary_image = mask.numpy()\n",
    "    except:\n",
    "        binary_image = mask.cpu().numpy()\n",
    "        \n",
    "    binary_image = binary_image.astype('uint8')\n",
    "    \n",
    "    binary_image = np.bitwise_or.reduce(binary_image, axis = 0)\n",
    "    \n",
    "    return binary_image"
   ]
  },
  {
   "cell_type": "code",
   "execution_count": 5,
   "metadata": {},
   "outputs": [
    {
     "name": "stdout",
     "output_type": "stream",
     "text": [
      "\n",
      "0: 640x640 1 Leaf, 12.5ms\n",
      "Speed: 21.3ms preprocess, 12.5ms inference, 378.4ms postprocess per image at shape (1, 3, 640, 640)\n",
      "\n",
      "0: 640x640 1 Disease, 22.2ms\n",
      "Speed: 5.0ms preprocess, 22.2ms inference, 3.0ms postprocess per image at shape (1, 3, 640, 640)\n"
     ]
    }
   ],
   "source": [
    "image = cv2.imread(\"img3.jpg\")\n",
    "image = preprocessImage(image)\n",
    "binary_mask_leaf = getSegmentationMask(LEAF_MODEL_PATH, image)\n",
    "binary_mask_leaf_disease = getSegmentationMask(LEAF_DISEASE_MODEL_PATH, image)"
   ]
  },
  {
   "cell_type": "code",
   "execution_count": 6,
   "metadata": {},
   "outputs": [
    {
     "data": {
      "text/plain": [
       "94.34113517387132"
      ]
     },
     "execution_count": 6,
     "metadata": {},
     "output_type": "execute_result"
    }
   ],
   "source": [
    "np.sum(binary_mask_leaf * binary_mask_leaf_disease) / np.sum(binary_mask_leaf) * 100"
   ]
  },
  {
   "cell_type": "code",
   "execution_count": 7,
   "metadata": {},
   "outputs": [
    {
     "data": {
      "text/plain": [
       "(640, 640)"
      ]
     },
     "execution_count": 7,
     "metadata": {},
     "output_type": "execute_result"
    }
   ],
   "source": [
    "binary_mask_leaf.shape"
   ]
  },
  {
   "cell_type": "code",
   "execution_count": 8,
   "metadata": {},
   "outputs": [
    {
     "data": {
      "text/plain": [
       "(640, 640)"
      ]
     },
     "execution_count": 8,
     "metadata": {},
     "output_type": "execute_result"
    }
   ],
   "source": [
    "binary_mask_leaf_disease.shape"
   ]
  },
  {
   "cell_type": "code",
   "execution_count": 9,
   "metadata": {},
   "outputs": [
    {
     "data": {
      "text/plain": [
       "True"
      ]
     },
     "execution_count": 9,
     "metadata": {},
     "output_type": "execute_result"
    }
   ],
   "source": [
    "cv2.imwrite('seg_leaf.jpg', binary_mask_leaf * 255)\n",
    "cv2.imwrite('seg_leaf_disease.jpg', binary_mask_leaf_disease * 255)"
   ]
  },
  {
   "cell_type": "code",
   "execution_count": 10,
   "metadata": {},
   "outputs": [
    {
     "data": {
      "text/plain": [
       "True"
      ]
     },
     "execution_count": 10,
     "metadata": {},
     "output_type": "execute_result"
    }
   ],
   "source": [
    "color_mask = np.zeros_like(image)\n",
    "color_mask[binary_mask_leaf_disease == 1] = [255, 0, 0]  # Green color for the mask\n",
    "\n",
    "# Overlay the mask on the image\n",
    "overlay = cv2.addWeighted(image, 1, color_mask, 0.3, 0)\n",
    "output_path = 'overlay_result_leaf.jpg'\n",
    "cv2.imwrite(output_path, overlay)"
   ]
  },
  {
   "cell_type": "code",
   "execution_count": null,
   "metadata": {},
   "outputs": [],
   "source": []
  }
 ],
 "metadata": {
  "kernelspec": {
   "display_name": "env",
   "language": "python",
   "name": "python3"
  },
  "language_info": {
   "codemirror_mode": {
    "name": "ipython",
    "version": 3
   },
   "file_extension": ".py",
   "mimetype": "text/x-python",
   "name": "python",
   "nbconvert_exporter": "python",
   "pygments_lexer": "ipython3",
   "version": "3.10.11"
  }
 },
 "nbformat": 4,
 "nbformat_minor": 2
}
